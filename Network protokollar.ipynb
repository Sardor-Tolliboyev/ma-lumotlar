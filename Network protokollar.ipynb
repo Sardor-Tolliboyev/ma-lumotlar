{
 "cells": [
  {
   "cell_type": "markdown",
   "id": "6fb1b359-83c1-4d0b-b853-873b1da4d48b",
   "metadata": {},
   "source": [
    "# NETWORK PROTOKOLLAR"
   ]
  },
  {
   "cell_type": "markdown",
   "id": "9baa0923-74d8-4bdd-a933-15c97e6067a1",
   "metadata": {},
   "source": [
    "## Tarmoq protokollari nima?"
   ]
  },
  {
   "cell_type": "markdown",
   "id": "74608a00-eb29-4c46-af21-aeb6a6cfc82a",
   "metadata": {},
   "source": [
    "   Bu kompyuterlar va boshqa qurilmalar bir-biri bilan 'gaplashish' uchun mo'ljallangan qoidalar to'plami.\n",
    "Protokollar bo'lmasa, kompyuterlar bir-biri bilan aloqa qila olmaydi"
   ]
  },
  {
   "cell_type": "markdown",
   "id": "46fa590f-001e-4f93-b596-4c288e345886",
   "metadata": {},
   "source": [
    "## Nima uchun ishlatiladi?"
   ]
  },
  {
   "cell_type": "markdown",
   "id": "8b6c2bcf-9339-43cb-8c2f-9fc5d25163ad",
   "metadata": {},
   "source": [
    "    Tarmoq protokollari quyidagi uchta asosiy vazifani bajarish uchun ishlatiladi\n",
    "1. Aloqa o'rnatish(Network Comminication)\n",
    "   Ma'lumotlarni bir joydan ikkinchi joyga to'g'ri va samarali yetkazishni ta'minlaydi\n",
    "2. Tarmoqni boshqarish(Network Managment)\n",
    "   Tarmoqning ishini kuzatish sozlash va muammolarni bartaraf etishga yordam beradi\n",
    "3. Tarmoq xavfsizligi(Network Security)\n",
    "   Ma'lumotlarni ruxsatsiz kirishdan himoya qiladi"
   ]
  },
  {
   "cell_type": "markdown",
   "id": "31c028d0-e2c4-4c79-9bb7-760786787cea",
   "metadata": {},
   "source": [
    "## Qanday ishlatiladi(Asosiy turlari bo'yicha)?"
   ]
  },
  {
   "cell_type": "markdown",
   "id": "90dbdf1c-d318-44e0-8f55-6900925d8358",
   "metadata": {},
   "source": [
    "### Aloqa protokollari"
   ]
  },
  {
   "cell_type": "markdown",
   "id": "c2550be5-826f-4092-8dbe-397a06991a55",
   "metadata": {},
   "source": [
    "1. HTTP(Hypertext Transfer Protocol)\n",
    "   Veb sahifalar, rasmlar va boshqa ma'lumotlarni internetda ko'rishimizga yordam beradi\n",
    "\n",
    "2. TCP(Tramistion Control Protocol)\n",
    "    Ma'lumotlarni kichik qismlarga bo'lib, ularni tartibli va ishonchli tarzda manziliga yetkazishni ta'minlaydi\n",
    "\n",
    "3. UDP(User Datagram Protocol)\n",
    "    Tezlik muhimroq bo'lgan joylarda mumkin onlayn o'yinlar, video qo'ng'iroqlar yoki jonli efirlarda ishlatiladi\n",
    "\n",
    "4. IP(Internet Protocol)\n",
    "    Har qanday ma'lumot paketining internetda to'g'ri joyga borishni ta'minlash uchun\n",
    "\n",
    "5. DHCP(Dynamic Host Configuration Protocol)\n",
    "    Tarmoqdagi qurilmalarga avtomatik ravishda IP adreslar va boshqa tarmoq sozlamalarini beradigan protokol"
   ]
  },
  {
   "cell_type": "markdown",
   "id": "4feed62d-a610-40b5-a40f-371a5d146233",
   "metadata": {},
   "source": [
    "### Tarmoqning boshqarish protokollari"
   ]
  },
  {
   "cell_type": "markdown",
   "id": "1c3f106d-7ccb-4cb9-b2ea-1c89d3c773aa",
   "metadata": {},
   "source": [
    "1. ICMP(Internet Control Message Protocol)\n",
    "   Tarmoqdagi xatolar va operatsion ma'lumotlarni yuborish uchun ishlatiladi\n",
    "2. SNMP(Simple Network Managment Protocol)\n",
    "   Tarmoq qurilmalarnini kuzatish va boshqarish\n",
    "3. FTP(File Transfer Protocol)\n",
    "   Fayllarni bir kompyuterdan boshqasiga yuklash yoki yuklab olish uchun ishlatiladi\n",
    "4. POP3(Post Office Protocol version 3)\n",
    "   Elektron pochta xabarlarini serverdan kompyuteringizdagi pochta dasturiga yuklab olish uchun ishlatiladi\n",
    "5. Telnet\n",
    "   Foydalanuvchiga uzoqdagi kompyuterga terminal orqali ulanish va uni boshqarish imkonini beradi"
   ]
  },
  {
   "cell_type": "markdown",
   "id": "23887052-d929-4179-8e00-c9ee6bd25ed5",
   "metadata": {},
   "source": [
    "### Tarmoq xavfsizligi protocollari"
   ]
  },
  {
   "cell_type": "markdown",
   "id": "fbe43b20-bb8d-4bc0-84ac-9137e344fc28",
   "metadata": {},
   "source": [
    "1. SSL(Secure Socket Layer)/ TLS(Transport Layer Security)\n",
    "   Ma'lumotlarni shifrlash va internet orqali xavfsiz uzatishni ta'minlaydigan protokollar. TLS SSLning yangilangan va xavfsiz versiyasi\n",
    "2. HTTPS(Hypertext Transfer Protocol Secure)\n",
    "   HTTPning xavfsiz versiyasi. SSL/TLS bilan birga ishlaydi"
   ]
  },
  {
   "cell_type": "markdown",
   "id": "964410df-bc58-4c8a-b7d8-61833ecd952b",
   "metadata": {},
   "source": [
    "### Boshqa turlari"
   ]
  },
  {
   "cell_type": "markdown",
   "id": "e08c1f91-7ccd-47b3-9982-1c8a0b2fb982",
   "metadata": {},
   "source": [
    "IMAP: Elektron pochta xabarlarini serverda saqlab, bir nechta qurilmalardan ularni boshqarishga imkon beradi\n",
    "SIP: Video va ovozli qo'ng'iroqlar kabi real vaqtdagi aloqalar\n",
    "RTP: IP tarmoq orqali real vaqtdagi audio va videolarni uzatish uchun ishlatiladi\n",
    "PPTP: Virtual xususiy tarmoqlarni (VPN) yaratish\n",
    "TFTP: Kichik fayllarni tez uzatish uchun foydaliniladi"
   ]
  }
 ],
 "metadata": {
  "kernelspec": {
   "display_name": "Python 3 (ipykernel)",
   "language": "python",
   "name": "python3"
  },
  "language_info": {
   "codemirror_mode": {
    "name": "ipython",
    "version": 3
   },
   "file_extension": ".py",
   "mimetype": "text/x-python",
   "name": "python",
   "nbconvert_exporter": "python",
   "pygments_lexer": "ipython3",
   "version": "3.12.1"
  }
 },
 "nbformat": 4,
 "nbformat_minor": 5
}
