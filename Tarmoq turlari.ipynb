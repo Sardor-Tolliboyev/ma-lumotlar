{
 "cells": [
  {
   "cell_type": "markdown",
   "id": "552da5ef-a16d-4dfa-aacf-65958e6d2f98",
   "metadata": {},
   "source": [
    "## \"KOMPYUTER TARMOQLARINING TURLARI\""
   ]
  },
  {
   "cell_type": "markdown",
   "id": "2b5136f7-c6c7-44bf-b429-9ed5edbe8e7d",
   "metadata": {},
   "source": [
    "## Kompyuter tarmog'i nima?"
   ]
  },
  {
   "cell_type": "markdown",
   "id": "3223f6f3-f887-4748-9564-8df49f29e31f",
   "metadata": {},
   "source": [
    "Kompyuter tarmog'i - bu bir nechta kompyuterlarni va boshqa qurilmalarni bir-biriga ulash tizimi\n",
    "Maqsadi esa ma'lumotlarni almashish va resurslarni ulashish"
   ]
  },
  {
   "cell_type": "markdown",
   "id": "17e465f8-4a83-43fa-a6e3-d4f36fd9c0d8",
   "metadata": {},
   "source": [
    "## Nima uchun ishlatiladi?"
   ]
  },
  {
   "cell_type": "markdown",
   "id": "6a03ca6d-9772-4446-81bc-3665dd19639d",
   "metadata": {},
   "source": [
    "Ma'lumotlar almashish, resurslarni baham ko'rish, muloqot, markazlashtirilgan saqlash, xavfsizlik"
   ]
  },
  {
   "cell_type": "markdown",
   "id": "77bb51b2-117e-4654-ba03-b3bf01bfeaa4",
   "metadata": {},
   "source": [
    "## Qanday ishlatiladi(Turlari bo'yicha)?"
   ]
  },
  {
   "cell_type": "markdown",
   "id": "0fe35ff4-18b1-4bf7-9e29-8f3eeaf0c7db",
   "metadata": {},
   "source": [
    "1) PAN (Personal Area Network - Shaxsiy hudud tarmog'i)\n",
    "   1. Bu nima?\n",
    "      Bu kishining shaxsiy qurilmalari o'rtasidagi aloqa\n",
    "   2. Nima uchun ishlatiladi?\n",
    "      Qurilmalarni bir-biriga ulash va kichik hajmdagi ma'lumotlarni almashish\n",
    "   3. Qanday ishlatiladi?\n",
    "      Bluetooth yoki infraqizil nurlari(masalan, televizor pulti) orqali\n",
    "2) LAN (Local Area Network - Mahalliy hudud tarmog'i)\n",
    "   1. Bu nima?\n",
    "      Uy, ofis, maktab kabi cheklangan joydagi qurilmalarni bog'laydigan tarmoq\n",
    "   2. Nima uchun ishlatiladi?\n",
    "      Biror binodagi odamlarga ma'lumot almashish, printerlarni birga ishlatish, internetga chiqish imkonini beradi\n",
    "   3. Qanday ishlatiladi?\n",
    "      Kabellar yoki Wi-Fi orqali\n",
    "3) CAN (Campus Area Network - Kampus hudud tarmog'i)\n",
    "   1. Bu nima?\n",
    "      Bir nechta binolarni(universitet kampusi, yirik hududdagi kompaniyalar) qamrab oladigan tarmoq. LANdan kattaroq\n",
    "   2. Nima uchun ishlatiladi?\n",
    "      Katta hududdagi binolar o'rtasida aloqa va resurslar almashish\n",
    "   3. Qanday ishlatiladi?\n",
    "      Ko'pincha Ethernet texnalogiyasidan foydalaniladi\n",
    "4) MAN (Metropolitan Area Network - Shahar hudud tarmog'i)\n",
    "   1. Bu nima?\n",
    "      Bitta shahar yoki uning kattaroq qismini qamrab oluvchi tarmoq LAN va CANdan kattaroq, lekin butun dunyoni qamrab olmaydi\n",
    "   2. Nima uchun ishlatiladi?\n",
    "      Shahar bo'ylab ofislarni, bank filiallarini yoki hukumat idoralarini bog'lash\n",
    "   3. Qanday ishlatiladi?\n",
    "      Maxsus texnalogiyalar (FDDI, ATM) orqali ishlaydi\n",
    "5) WAN (Wide Area Network - Keng hudud tarmog'i)\n",
    "   1. Bu nima?\n",
    "      Eng katta tarmoq turi. Turli shaharlar, davlatlar yoki qit'alardagi kompyuterlarni bog'laydi\n",
    "   2. Nima uchun ishlatiladi?\n",
    "      Dunyo bo'ylab aloqa o'rnatish, ma'lumotlarni uzoq masofalarga uzatish\n",
    "   3. Qanday ishlatiladi?\n",
    "      Maxsus ijaraga olingan liniyalar yoki dial-up aloqa kabi texnalogiyalardan foydalaniladi"
   ]
  },
  {
   "cell_type": "markdown",
   "id": "c83fef1b-400e-4dc4-ad05-830268446ae9",
   "metadata": {},
   "source": [
    "## Uzatish texnalogiyasiga ko'ra turlari"
   ]
  },
  {
   "cell_type": "markdown",
   "id": "4b5e630d-2375-49d5-877f-d21fe3408a17",
   "metadata": {},
   "source": [
    "1. WLAN (Wirelles Local Area Network - Simsiz mahalliy hudud tarmog'i)\n",
    "   LAN bilan bir xil, faqat kabellar, Wi-Fi orqali ishlaydi\n",
    "2. SAN (System Area Network - Tizim hudud tarmog'i)\n",
    "   Yuqori unumdorlikka ega kompyuterlarni ulash uchun mo'ljallangan. Tezkor ma'lumotlar uzatish\n",
    "3. POLAN (Passive Optical Area Network - Passiv optik mahalliy hudud tarmog'i)\n",
    "   Oddiy LANga  alternative bo'lib optik tolali kabellar orqali foydalaniladi. An'anaviy kabellarga nisbatan yuqori tezlik, kamroq energiya sarfi"
   ]
  },
  {
   "cell_type": "markdown",
   "id": "99ef881a-2242-4b81-a0a3-00950d82f45c",
   "metadata": {},
   "source": [
    "## Egalik va kirish nazoratiga ko'ra turlari"
   ]
  },
  {
   "cell_type": "markdown",
   "id": "205df875-0e76-446e-b6b5-e08b18a9f202",
   "metadata": {},
   "source": [
    "1. Xususiy tarmoq (Private Network)\n",
    "   Bir tashkilot yoki shaxsga tegishli va ular tomonidan boshqariladigan tarmoq. Yuqori xavfsizlikka va nazoratni ta'minlash\n",
    "2. Ommaviy tarmoq (Public Network)\n",
    "   Hammaga ochiq bo'lgan tarmoqlar. Umumiy foydalanishni ta'minlash\n",
    "3. Gibrid tarmoq (Hybrid Network)\n",
    "   Xususiy va ommaviy tarmoqlarni aralashmasi. Har xil foydalanuvchi uchun turli darajadagi kirishni ta'minlash"
   ]
  },
  {
   "cell_type": "markdown",
   "id": "85736b2a-20dc-466e-bb39-3904a4fc4e0d",
   "metadata": {},
   "source": [
    "## Internetwork(Tarmoqlaro aloqa)"
   ]
  },
  {
   "cell_type": "markdown",
   "id": "7e7e811d-d9bd-4c6d-8d41-d26663d92f35",
   "metadata": {},
   "source": [
    "1) Intranet\n",
    "   1. Bu nima?\n",
    "      Tashkilot ichida ishlatiladigan xususiy tarmoq.\n",
    "   2. Nima uchun ishlatiladi?\n",
    "      Xodimlarga ichki hujjatlar, resurslar va ma'lumotlarga xavfsiz kirish imkonini beradi\n",
    "2) Extranet\n",
    "   1. Bu nima?\n",
    "      Intranet kengaytmasi bo'lib, tashkilotning hamkorlari mijozlari yoki yetkazib beruvchilari kabi tashqi shaxslarga cheklangan xavfsiz kirish imkonini beradi\n",
    "   2. Nima uchun ishlatiladi?\n",
    "      Tashqi hamkorlar bilan ma'lumot almashish va birgalikda ishlash"
   ]
  },
  {
   "cell_type": "markdown",
   "id": "f3df8b6c-e6c3-4869-a5ba-6a814c03dbdf",
   "metadata": {},
   "source": [
    "## Afzalliklari"
   ]
  },
  {
   "cell_type": "markdown",
   "id": "7c30499d-3904-41f9-9262-528f4455419d",
   "metadata": {},
   "source": [
    "Ma'lumotlarni markazlashtirilgan saqlash: Hamma bir joydagi ma'lumotlarga kira oladi\n",
    "Ulanish imkoniyati: Ko'p qurilmalarni bitta ulanish orqali bog'lash\n",
    "Fayllarni almashish: Ma'lumotlarni osongina almashish \n",
    "Xavfsizlik: Ma'lumotlarga kirishni nazorat qilish"
   ]
  },
  {
   "cell_type": "markdown",
   "id": "a5633bf2-a00e-4071-ae44-f4c6febb3c5c",
   "metadata": {},
   "source": [
    "## Kamchiliklari"
   ]
  },
  {
   "cell_type": "markdown",
   "id": "2d0d3692-1f4c-4051-8a70-fe12a7e81333",
   "metadata": {},
   "source": [
    "Virus va zararli dasturlar: Bitta kompyuterdagi virus butun tarmoqga tarqalish mumkin\n",
    "Qimmat sozlash: Boshida tarmoqni o'natish qimmatga tushish mumkin\n",
    "Malumot yo'qolishi: Tizimda nosozlik yuz bersa, ma'lumotlar yo'qolishi munkin.\n",
    "Boshqaruv murakkabligi: Tarmoqni boshqarish maxsus talab qilishi mumkin"
   ]
  }
 ],
 "metadata": {
  "kernelspec": {
   "display_name": "Python 3 (ipykernel)",
   "language": "python",
   "name": "python3"
  },
  "language_info": {
   "codemirror_mode": {
    "name": "ipython",
    "version": 3
   },
   "file_extension": ".py",
   "mimetype": "text/x-python",
   "name": "python",
   "nbconvert_exporter": "python",
   "pygments_lexer": "ipython3",
   "version": "3.12.1"
  }
 },
 "nbformat": 4,
 "nbformat_minor": 5
}
